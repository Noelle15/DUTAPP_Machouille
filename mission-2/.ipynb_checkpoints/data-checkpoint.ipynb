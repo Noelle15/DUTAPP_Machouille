{
 "cells": [
  {
   "cell_type": "code",
   "execution_count": 6,
   "metadata": {},
   "outputs": [],
   "source": [
    "import numpy as np\n",
    "import pandas as pd"
   ]
  },
  {
   "cell_type": "code",
   "execution_count": 7,
   "metadata": {},
   "outputs": [
    {
     "data": {
      "text/plain": [
       "<matplotlib.axes._subplots.AxesSubplot at 0x117ece610>"
      ]
     },
     "execution_count": 7,
     "metadata": {},
     "output_type": "execute_result"
    },
    {
     "data": {
      "image/png": "[encoded data removed]",
      "text/plain": [
       "<Figure size 360x360 with 1 Axes>"
      ]
     },
     "metadata": {},
     "output_type": "display_data"
    }
   ],
   "source": [
    "produit = pd.read_csv('./FichierProduits.csv', sep=';', encoding='ISO-8859-1')\n",
    "\n",
    "result = pd.value_counts(produit['Famille'].values); result\n",
    "result.plot.pie(figsize=(5, 5))"
   ]
  },
  {
   "cell_type": "code",
   "execution_count": 8,
   "metadata": {},
   "outputs": [
    {
     "name": "stdout",
     "output_type": "stream",
     "text": [
      "            count      mean       std  min  25%  50%  75%  max\n",
      "DateAchat                                                     \n",
      "01-nov-19    42.0  1.571429  0.500870  1.0  1.0  2.0  2.0  2.0\n",
      "01-oct-19    20.0  1.450000  0.510418  1.0  1.0  1.0  2.0  2.0\n",
      "01-sept-19   13.0  1.846154  0.688737  1.0  1.0  2.0  2.0  3.0\n",
      "02-nov-19    18.0  1.666667  0.970143  1.0  1.0  1.5  2.0  5.0\n",
      "02-oct-19    30.0  1.666667  0.479463  1.0  1.0  2.0  2.0  2.0\n",
      "...           ...       ...       ...  ...  ...  ...  ...  ...\n",
      "29-oct-19    37.0  1.540541  0.505228  1.0  1.0  2.0  2.0  2.0\n",
      "29-sept-19   15.0  1.600000  0.507093  1.0  1.0  2.0  2.0  2.0\n",
      "30-oct-19    66.0  1.530303  0.661460  1.0  1.0  1.0  2.0  5.0\n",
      "30-sept-19   13.0  1.615385  0.650444  1.0  1.0  2.0  2.0  3.0\n",
      "31-oct-19    35.0  1.714286  0.621735  1.0  1.0  2.0  2.0  4.0\n",
      "\n",
      "[87 rows x 8 columns]\n",
      "                      count      mean       std  min   25%  50%   75%  max\n",
      "N° ticket DateAchat                                                       \n",
      "10248     01-sept-19    9.0  2.000000  0.707107  1.0  2.00  2.0  2.00  3.0\n",
      "          02-sept-19   12.0  1.833333  0.834847  1.0  1.00  2.0  2.25  3.0\n",
      "          03-sept-19    5.0  2.200000  0.836660  1.0  2.00  2.0  3.00  3.0\n",
      "10249     03-sept-19    2.0  1.500000  0.707107  1.0  1.25  1.5  1.75  2.0\n",
      "10250     03-sept-19    3.0  1.666667  0.577350  1.0  1.50  2.0  2.00  2.0\n",
      "...                     ...       ...       ...  ...   ...  ...   ...  ...\n",
      "11079     26-nov-19     1.0  2.000000       NaN  2.0  2.00  2.0  2.00  2.0\n",
      "11080     26-nov-19     2.0  1.500000  0.707107  1.0  1.25  1.5  1.75  2.0\n",
      "11081     26-nov-19     1.0  2.000000       NaN  2.0  2.00  2.0  2.00  2.0\n",
      "11082     16-sept-19    1.0  2.000000       NaN  2.0  2.00  2.0  2.00  2.0\n",
      "          26-nov-19     1.0  3.000000       NaN  3.0  3.00  3.0  3.00  3.0\n",
      "\n",
      "[890 rows x 8 columns]\n"
     ]
    }
   ],
   "source": [
    "ticket = pd.read_csv('./FichierPanier.csv', sep=';', encoding='ISO-8859-1')\n",
    "\n",
    "result = ticket.groupby('DateAchat')['Qté']\n",
    "print(result.describe())\n",
    "\n",
    "result = ticket.groupby(['N° ticket', 'DateAchat'])['Qté']\n",
    "print(result.describe())\n",
    "# for name,group in result:\n",
    "#   print(name)\n",
    "#   print(group)"
   ]
  }
 ],
 "metadata": {
  "kernelspec": {
   "display_name": "Python 3",
   "language": "python",
   "name": "python3"
  },
  "language_info": {
   "codemirror_mode": {
    "name": "ipython",
    "version": 3
   },
   "file_extension": ".py",
   "mimetype": "text/x-python",
   "name": "python",
   "nbconvert_exporter": "python",
   "pygments_lexer": "ipython3",
   "version": "3.7.4"
  }
 },
 "nbformat": 4,
 "nbformat_minor": 2
}
